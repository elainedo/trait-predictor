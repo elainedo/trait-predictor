{
 "cells": [
  {
   "cell_type": "code",
   "execution_count": 3,
   "metadata": {
    "collapsed": true
   },
   "outputs": [],
   "source": [
    "from pandas import read_csv\n",
    "from sklearn import tree\n",
    "from sklearn.ensemble import RandomForestClassifier\n",
    "from sklearn import svm\n",
    "from sklearn.metrics import accuracy_score\n",
    "from sklearn.metrics import confusion_matrix\n",
    "import numpy as np\n",
    "\n",
    "import warnings\n",
    "warnings.filterwarnings('ignore')\n",
    "\n",
    "# function to visualize confusion matrix\n",
    "\n",
    "import itertools\n",
    "import matplotlib.pyplot as plt\n",
    "\n",
    "from sklearn.feature_selection import RFE\n",
    "\n",
    "def plot_confusion_matrix(cm, classes,\n",
    "                          normalize=False,\n",
    "                          title='Confusion matrix',\n",
    "                          cmap=plt.cm.Blues):\n",
    "    \"\"\"\n",
    "    This function prints and plots the confusion matrix.\n",
    "    Normalization can be applied by setting `normalize=True`.\n",
    "    \"\"\"\n",
    "    plt.imshow(cm, interpolation='nearest', cmap=cmap)\n",
    "    plt.title(title)\n",
    "    plt.colorbar()\n",
    "    tick_marks = np.arange(len(classes))\n",
    "    plt.xticks(tick_marks, classes, rotation=45)\n",
    "    plt.yticks(tick_marks, classes)\n",
    "\n",
    "    if normalize:\n",
    "        cm = cm.astype('float') / cm.sum(axis=1)[:, np.newaxis]\n",
    "        cm = np.round(cm, 3)\n",
    "\n",
    "    thresh = cm.max() / 2.\n",
    "    for i, j in itertools.product(range(cm.shape[0]), range(cm.shape[1])):\n",
    "        plt.text(j, i, cm[i, j],\n",
    "                 horizontalalignment=\"center\",\n",
    "                 color=\"white\" if cm[i, j] > thresh else \"black\")\n",
    "\n",
    "    plt.tight_layout()\n",
    "    plt.ylabel('True Classe')\n",
    "    plt.xlabel('Predicted Classe')"
   ]
  },
  {
   "cell_type": "markdown",
   "metadata": {},
   "source": [
    "## Load Dataset"
   ]
  },
  {
   "cell_type": "code",
   "execution_count": 4,
   "metadata": {
    "collapsed": true
   },
   "outputs": [],
   "source": [
    "# load data\n",
    "df = read_csv(\"speedDateM-dimred.csv\")"
   ]
  },
  {
   "cell_type": "markdown",
   "metadata": {},
   "source": [
    "## Dimension Reduction"
   ]
  },
  {
   "cell_type": "code",
   "execution_count": 5,
   "metadata": {
    "collapsed": true
   },
   "outputs": [],
   "source": [
    "df = df.dropna(how='any')    #to drop if any value in the row has a nan\n",
    "df = df.drop(\"iid\", axis = 1).drop(\"id\", axis = 1).drop(\"idg\", axis = 1).drop(\"gender\", axis = 1).drop(\"wave\", axis = 1)\n",
    "# rename data attribute\n",
    "df.columns = ['imp-phys-attr', 'imp-sinc', 'imp-intel', 'imp-fun', 'imp-amb', 'imp-shar',\\\n",
    "              'eval-phys-attr', 'eval-sinc', 'eval-intel','eval-fun','eval-amb',\\\n",
    "              'eval-shar', 'decision' ]"
   ]
  },
  {
   "cell_type": "markdown",
   "metadata": {},
   "source": [
    "## Split into training set and test set"
   ]
  },
  {
   "cell_type": "code",
   "execution_count": 6,
   "metadata": {},
   "outputs": [
    {
     "name": "stdout",
     "output_type": "stream",
     "text": [
      "train x dimensions: (2836, 12)\n",
      "train y dimensions: (2836,)\n",
      "test x dimensions: (710, 12)\n",
      "test y dimensions: (710,)\n"
     ]
    }
   ],
   "source": [
    "from sklearn.model_selection import train_test_split\n",
    "target = df['decision']\n",
    "feat = df.drop('decision', axis = 1)\n",
    "train_x, test_x, train_y, test_y = train_test_split(feat, target, train_size = .8)\n",
    "\n",
    "print(\"train x dimensions:\", train_x.shape)\n",
    "print(\"train y dimensions:\", train_y.shape)\n",
    "print(\"test x dimensions:\", test_x.shape)\n",
    "print(\"test y dimensions:\", test_y.shape)"
   ]
  },
  {
   "cell_type": "markdown",
   "metadata": {},
   "source": [
    "## Machine Learning Models"
   ]
  },
  {
   "cell_type": "markdown",
   "metadata": {},
   "source": [
    "### Decision Tree"
   ]
  },
  {
   "cell_type": "code",
   "execution_count": 13,
   "metadata": {},
   "outputs": [
    {
     "name": "stdout",
     "output_type": "stream",
     "text": [
      "0.013810873031616211\n",
      "Train accuracy:  1.00\n",
      "Test accuracy:  0.73\n"
     ]
    },
    {
     "data": {
      "image/png": "[encoded data removed]",
      "text/plain": [
       "<matplotlib.figure.Figure at 0x10bd37470>"
      ]
     },
     "metadata": {},
     "output_type": "display_data"
    }
   ],
   "source": [
    "import time\n",
    "\n",
    "dt = tree.DecisionTreeClassifier()\n",
    "startTime = time.time()\n",
    "dt.fit(train_x, train_y)\n",
    "endTime = time.time()\n",
    "print(endTime -startTime)\n",
    "pred = dt.predict(test_x)\n",
    "\n",
    "train_acc_dt = format(accuracy_score(train_y, dt.predict(train_x)), '.2f')\n",
    "test_acc_dt = format(accuracy_score(test_y, pred), '.2f')\n",
    "print(\"Train accuracy: \", train_acc_dt)\n",
    "print(\"Test accuracy: \", test_acc_dt)\n",
    "\n",
    "# Compute confusion matrix\n",
    "cnf_matrix = confusion_matrix(test_y, pred)\n",
    "np.set_printoptions(precision=2)\n",
    "\n",
    "class_names = ['Yes','No']\n",
    "\n",
    "# Plot normalized confusion matrix\n",
    "plt.figure()\n",
    "plot_confusion_matrix(cnf_matrix, classes=class_names, normalize=True,\n",
    "                      title='Normalized confusion matrix')\n",
    "\n",
    "plt.show()"
   ]
  },
  {
   "cell_type": "markdown",
   "metadata": {},
   "source": [
    "### Random Forests"
   ]
  },
  {
   "cell_type": "code",
   "execution_count": 43,
   "metadata": {},
   "outputs": [
    {
     "name": "stdout",
     "output_type": "stream",
     "text": [
      "0.05236315727233887\n",
      "train accuracy:  0.99\n",
      "test accuracy:  0.80\n"
     ]
    },
    {
     "data": {
      "image/png": "[encoded data removed]",
      "text/plain": [
       "<matplotlib.figure.Figure at 0x10da65c18>"
      ]
     },
     "metadata": {},
     "output_type": "display_data"
    }
   ],
   "source": [
    "# Build random forest model\n",
    "rf = RandomForestClassifier()\n",
    "startTime = time.time()\n",
    "rf.fit(train_x, train_y)\n",
    "endTime = time.time()\n",
    "print(endTime -startTime)\n",
    "pred = rf.predict(test_x)\n",
    "\n",
    "train_acc_rf = format(accuracy_score(train_y, rf.predict(train_x)), '.2f')\n",
    "test_acc_rf = format(accuracy_score(test_y, pred), '.2f')\n",
    "print(\"train accuracy: \", train_acc_rf)\n",
    "print(\"test accuracy: \", test_acc_rf)\n",
    "\n",
    "# Compute confusion matrix\n",
    "cnf_matrix = confusion_matrix(test_y, pred)\n",
    "np.set_printoptions(precision=2)\n",
    "\n",
    "class_names = ['Yes','No']\n",
    "\n",
    "# Plot normalized confusion matrix\n",
    "plt.figure()\n",
    "plot_confusion_matrix(cnf_matrix, classes=class_names, normalize=True,\n",
    "                      title='Normalized confusion matrix')\n",
    "\n",
    "plt.show()"
   ]
  },
  {
   "cell_type": "code",
   "execution_count": 7,
   "metadata": {},
   "outputs": [
    {
     "data": {
      "text/plain": [
       "[(4, 'imp-phys-attr'),\n",
       " (6, 'imp-sinc'),\n",
       " (8, 'imp-intel'),\n",
       " (7, 'imp-fun'),\n",
       " (10, 'imp-amb'),\n",
       " (5, 'imp-shar'),\n",
       " (1, 'eval-phys-attr'),\n",
       " (11, 'eval-sinc'),\n",
       " (12, 'eval-intel'),\n",
       " (2, 'eval-fun'),\n",
       " (9, 'eval-amb'),\n",
       " (3, 'eval-shar')]"
      ]
     },
     "execution_count": 7,
     "metadata": {},
     "output_type": "execute_result"
    }
   ],
   "source": [
    "input_vars = ['imp-phys-attr', 'imp-sinc', 'imp-intel', 'imp-fun', 'imp-amb', 'imp-shar',\\\n",
    "              'eval-phys-attr', 'eval-sinc', 'eval-intel','eval-fun','eval-amb',\\\n",
    "              'eval-shar', 'decision' ]\n",
    "ranking = np.argsort(rf.feature_importances_)\n",
    "feature_ranking=[0]*len(ranking)\n",
    "for i in range(len(ranking)):\n",
    "    order = ranking[i]\n",
    "    feature_ranking[order] = len(ranking) - i\n",
    "feature_ranking = zip(feature_ranking, input_vars)\n",
    "list(feature_ranking)"
   ]
  },
  {
   "cell_type": "markdown",
   "metadata": {},
   "source": [
    "# Build model on evaluation attributes\n",
    "\n",
    "## Dimension Reduction"
   ]
  },
  {
   "cell_type": "code",
   "execution_count": 8,
   "metadata": {
    "collapsed": true
   },
   "outputs": [],
   "source": [
    "df_eval = df.drop(\"imp-phys-attr\", axis = 1).drop(\"imp-sinc\", axis = 1).drop(\"imp-amb\", axis = 1).\\\n",
    "    drop(\"imp-shar\", axis = 1).drop(\"imp-intel\", axis = 1).drop(\"imp-fun\", axis = 1)"
   ]
  },
  {
   "cell_type": "markdown",
   "metadata": {},
   "source": [
    "## Split data set into training set and test set"
   ]
  },
  {
   "cell_type": "code",
   "execution_count": 9,
   "metadata": {},
   "outputs": [
    {
     "name": "stdout",
     "output_type": "stream",
     "text": [
      "train x dimensions: (2836, 6)\n",
      "train y dimensions: (2836,)\n",
      "test x dimensions: (710, 6)\n",
      "test y dimensions: (710,)\n"
     ]
    }
   ],
   "source": [
    "from sklearn.model_selection import train_test_split\n",
    "target = df_eval['decision']\n",
    "feat = df_eval.drop('decision', axis = 1)\n",
    "train_eval_x, test_eval_x, train_eval_y, test_eval_y = train_test_split(feat, target, train_size = .8)\n",
    "print(\"train x dimensions:\", train_eval_x.shape)\n",
    "print(\"train y dimensions:\", train_eval_y.shape)\n",
    "print(\"test x dimensions:\", test_eval_x.shape)\n",
    "print(\"test y dimensions:\", test_eval_y.shape)"
   ]
  },
  {
   "cell_type": "markdown",
   "metadata": {},
   "source": [
    "## Machine Learning Models"
   ]
  },
  {
   "cell_type": "markdown",
   "metadata": {},
   "source": [
    "### Decision Trees Classifier"
   ]
  },
  {
   "cell_type": "code",
   "execution_count": 197,
   "metadata": {},
   "outputs": [
    {
     "name": "stdout",
     "output_type": "stream",
     "text": [
      "train accuracy:  0.95\n",
      "test accuracy:  0.67\n"
     ]
    },
    {
     "data": {
      "image/png": "[encoded data removed]",
      "text/plain": [
       "<matplotlib.figure.Figure at 0x111f4ac18>"
      ]
     },
     "metadata": {},
     "output_type": "display_data"
    }
   ],
   "source": [
    "from sklearn import tree\n",
    "dt_eval = tree.DecisionTreeClassifier()\n",
    "dt_eval.fit(train_eval_x, train_eval_y)\n",
    "pred = dt_eval.predict(test_eval_x)\n",
    "\n",
    "train_acc_eval_dt = format(accuracy_score(train_eval_y, dt_eval.predict(train_eval_x)), '.2f')\n",
    "test_acc_eval_dt = format(accuracy_score(test_eval_y, pred), '.2f')\n",
    "print(\"train accuracy: \", train_acc_eval_dt)\n",
    "print(\"test accuracy: \", test_acc_eval_dt)\n",
    "\n",
    "cnf_matrix = confusion_matrix(test_eval_y, pred)\n",
    "np.set_printoptions(precision=2)\n",
    "\n",
    "class_names = ['Yes','No']\n",
    "\n",
    "# Plot normalized confusion matrix\n",
    "plt.figure()\n",
    "plot_confusion_matrix(cnf_matrix, classes=class_names, normalize=True,\n",
    "                      title='Normalized confusion matrix')\n",
    "\n",
    "plt.show()"
   ]
  },
  {
   "cell_type": "markdown",
   "metadata": {},
   "source": [
    "### Random Forests Classifier"
   ]
  },
  {
   "cell_type": "code",
   "execution_count": 198,
   "metadata": {},
   "outputs": [
    {
     "name": "stdout",
     "output_type": "stream",
     "text": [
      "train accuracy:  0.94\n",
      "test accuracy:  0.71\n"
     ]
    },
    {
     "data": {
      "image/png": "[encoded data removed]",
      "text/plain": [
       "<matplotlib.figure.Figure at 0x111f4a898>"
      ]
     },
     "metadata": {},
     "output_type": "display_data"
    }
   ],
   "source": [
    "rf_eval = RandomForestClassifier()\n",
    "rf_eval.fit(train_eval_x, train_eval_y)\n",
    "pred = rf_eval.predict(test_eval_x)\n",
    "\n",
    "train_acc_eval_rf = format(accuracy_score(train_eval_y, rf_eval.predict(train_eval_x)), '.2f')\n",
    "test_acc_eval_rf = format(accuracy_score(test_eval_y, pred), '.2f')\n",
    "print(\"train accuracy: \", train_acc_eval_rf)\n",
    "print(\"test accuracy: \", test_acc_eval_rf)\n",
    "\n",
    "cnf_matrix = confusion_matrix(test_eval_y, pred)\n",
    "np.set_printoptions(precision=2)\n",
    "\n",
    "class_names = ['Yes','No']\n",
    "\n",
    "# Plot normalized confusion matrix\n",
    "plt.figure()\n",
    "plot_confusion_matrix(cnf_matrix, classes=class_names, normalize=True,\n",
    "                      title='Normalized confusion matrix')\n",
    "\n",
    "plt.show()"
   ]
  },
  {
   "cell_type": "markdown",
   "metadata": {},
   "source": [
    "## Accuracy of Models and Types of data"
   ]
  },
  {
   "cell_type": "markdown",
   "metadata": {},
   "source": [
    "### Train Accuracy"
   ]
  },
  {
   "cell_type": "code",
   "execution_count": 199,
   "metadata": {
    "scrolled": true
   },
   "outputs": [
    {
     "data": {
      "text/html": [
       "<table><tr><td></td><td>Decision Trees</td><td>Random Forests</td></tr><tr><td>Importance and evaluation attributes</td><td>1.00</td><td>0.98</td></tr><tr><td>Evaluation attributes</td><td>0.95</td><td>0.94</td></tr></table>"
      ],
      "text/plain": [
       "<IPython.core.display.HTML object>"
      ]
     },
     "metadata": {},
     "output_type": "display_data"
    }
   ],
   "source": [
    "from IPython.display import HTML, display\n",
    "\n",
    "data = [[\"\",\"Decision Trees\",\"Random Forests\"],\n",
    "        [\"Importance and evaluation attributes\", train_acc_dt, train_acc_rf],\n",
    "        [\"Evaluation attributes\", train_acc_eval_dt, train_acc_eval_rf]]\n",
    "\n",
    "display(HTML(\n",
    "    '<table><tr>{}</tr></table>'.format(\n",
    "    '</tr><tr>'.join(\n",
    "        '<td>{}</td>'.format('</td><td>'.join(str(_) for _ in row)) for row in data))\n",
    "))"
   ]
  },
  {
   "cell_type": "markdown",
   "metadata": {},
   "source": [
    "### Test accuracy"
   ]
  },
  {
   "cell_type": "code",
   "execution_count": 201,
   "metadata": {},
   "outputs": [
    {
     "data": {
      "text/html": [
       "<table><tr><td></td><td>Decision Trees</td><td>Random Forests</td></tr><tr><td>Importance and evaluation attributes</td><td>0.75</td><td>0.78</td></tr><tr><td>Evaluation attributes</td><td>0.67</td><td>0.71</td></tr></table>"
      ],
      "text/plain": [
       "<IPython.core.display.HTML object>"
      ]
     },
     "metadata": {},
     "output_type": "display_data"
    }
   ],
   "source": [
    "data = [[\"\",\"Decision Trees\",\"Random Forests\"],\n",
    "        [\"Importance and evaluation attributes\", test_acc_dt, test_acc_rf],\n",
    "        [\"Evaluation attributes\", test_acc_eval_dt, test_acc_eval_rf]]\n",
    "\n",
    "display(HTML(\n",
    "    '<table><tr>{}</tr></table>'.format(\n",
    "    '</tr><tr>'.join(\n",
    "        '<td>{}</td>'.format('</td><td>'.join(str(_) for _ in row)) for row in data))\n",
    "))"
   ]
  },
  {
   "cell_type": "markdown",
   "metadata": {
    "collapsed": true
   },
   "source": [
    "### Important points\n",
    "\n",
    "1. Decision Tree has lower accuracy than Random Forest. \n",
    "2. Evaluation attributes have strong indication of dating decision \n",
    "\n",
    "Since the evaluation attributes have strong indication of dating decision, we focus on evaluation attributes to rank the importance of features"
   ]
  },
  {
   "cell_type": "markdown",
   "metadata": {},
   "source": [
    "## Ranking of important features"
   ]
  },
  {
   "cell_type": "code",
   "execution_count": 202,
   "metadata": {
    "collapsed": true
   },
   "outputs": [],
   "source": [
    "# Feature array\n",
    "input_vars = ['eval-phys-attr', 'eval-sinc', 'eval-intel','eval-fun','eval-amb',\\\n",
    "              'eval-shar']"
   ]
  },
  {
   "cell_type": "markdown",
   "metadata": {},
   "source": [
    "### Random Forests"
   ]
  },
  {
   "cell_type": "code",
   "execution_count": 203,
   "metadata": {},
   "outputs": [
    {
     "data": {
      "text/plain": [
       "[(1, 'eval-phys-attr'),\n",
       " (5, 'eval-sinc'),\n",
       " (6, 'eval-intel'),\n",
       " (3, 'eval-fun'),\n",
       " (4, 'eval-amb'),\n",
       " (2, 'eval-shar')]"
      ]
     },
     "execution_count": 203,
     "metadata": {},
     "output_type": "execute_result"
    }
   ],
   "source": [
    "ranking = np.argsort(rf_eval.feature_importances_)\n",
    "feature_ranking=[0]*len(ranking)\n",
    "for i in range(len(ranking)):\n",
    "    order = ranking[i]\n",
    "    feature_ranking[order] = len(ranking) - i\n",
    "feature_ranking = zip(feature_ranking, input_vars)\n",
    "list(feature_ranking)"
   ]
  },
  {
   "cell_type": "markdown",
   "metadata": {},
   "source": [
    "## Conclusion\n",
    "\n",
    "3 most important features: \n",
    "\n",
    "1. Physical Attractiveness\n",
    "2. Shared Interests\n",
    "3. Fun"
   ]
  },
  {
   "cell_type": "code",
   "execution_count": 204,
   "metadata": {},
   "outputs": [
    {
     "data": {
      "text/html": [
       "<div>\n",
       "<style>\n",
       "    .dataframe thead tr:only-child th {\n",
       "        text-align: right;\n",
       "    }\n",
       "\n",
       "    .dataframe thead th {\n",
       "        text-align: left;\n",
       "    }\n",
       "\n",
       "    .dataframe tbody tr th {\n",
       "        vertical-align: top;\n",
       "    }\n",
       "</style>\n",
       "<table border=\"1\" class=\"dataframe\">\n",
       "  <thead>\n",
       "    <tr style=\"text-align: right;\">\n",
       "      <th></th>\n",
       "      <th>eval-phys-attr</th>\n",
       "      <th>eval-fun</th>\n",
       "      <th>eval-shar</th>\n",
       "      <th>decision</th>\n",
       "    </tr>\n",
       "  </thead>\n",
       "  <tbody>\n",
       "    <tr>\n",
       "      <th>0</th>\n",
       "      <td>6.0</td>\n",
       "      <td>8.0</td>\n",
       "      <td>6.0</td>\n",
       "      <td>0</td>\n",
       "    </tr>\n",
       "    <tr>\n",
       "      <th>1</th>\n",
       "      <td>8.0</td>\n",
       "      <td>9.0</td>\n",
       "      <td>4.0</td>\n",
       "      <td>0</td>\n",
       "    </tr>\n",
       "    <tr>\n",
       "      <th>2</th>\n",
       "      <td>7.0</td>\n",
       "      <td>5.0</td>\n",
       "      <td>4.0</td>\n",
       "      <td>0</td>\n",
       "    </tr>\n",
       "    <tr>\n",
       "      <th>3</th>\n",
       "      <td>6.0</td>\n",
       "      <td>7.0</td>\n",
       "      <td>5.0</td>\n",
       "      <td>0</td>\n",
       "    </tr>\n",
       "    <tr>\n",
       "      <th>4</th>\n",
       "      <td>6.0</td>\n",
       "      <td>8.0</td>\n",
       "      <td>6.0</td>\n",
       "      <td>0</td>\n",
       "    </tr>\n",
       "    <tr>\n",
       "      <th>5</th>\n",
       "      <td>7.0</td>\n",
       "      <td>9.0</td>\n",
       "      <td>4.0</td>\n",
       "      <td>0</td>\n",
       "    </tr>\n",
       "    <tr>\n",
       "      <th>6</th>\n",
       "      <td>7.0</td>\n",
       "      <td>8.0</td>\n",
       "      <td>7.0</td>\n",
       "      <td>0</td>\n",
       "    </tr>\n",
       "    <tr>\n",
       "      <th>7</th>\n",
       "      <td>8.0</td>\n",
       "      <td>6.0</td>\n",
       "      <td>5.0</td>\n",
       "      <td>0</td>\n",
       "    </tr>\n",
       "    <tr>\n",
       "      <th>8</th>\n",
       "      <td>6.0</td>\n",
       "      <td>8.0</td>\n",
       "      <td>5.0</td>\n",
       "      <td>0</td>\n",
       "    </tr>\n",
       "    <tr>\n",
       "      <th>9</th>\n",
       "      <td>7.0</td>\n",
       "      <td>8.0</td>\n",
       "      <td>5.0</td>\n",
       "      <td>0</td>\n",
       "    </tr>\n",
       "    <tr>\n",
       "      <th>10</th>\n",
       "      <td>7.0</td>\n",
       "      <td>7.0</td>\n",
       "      <td>5.0</td>\n",
       "      <td>0</td>\n",
       "    </tr>\n",
       "    <tr>\n",
       "      <th>11</th>\n",
       "      <td>7.0</td>\n",
       "      <td>6.0</td>\n",
       "      <td>5.0</td>\n",
       "      <td>0</td>\n",
       "    </tr>\n",
       "    <tr>\n",
       "      <th>12</th>\n",
       "      <td>6.0</td>\n",
       "      <td>6.0</td>\n",
       "      <td>5.0</td>\n",
       "      <td>0</td>\n",
       "    </tr>\n",
       "    <tr>\n",
       "      <th>13</th>\n",
       "      <td>6.0</td>\n",
       "      <td>6.0</td>\n",
       "      <td>5.0</td>\n",
       "      <td>0</td>\n",
       "    </tr>\n",
       "    <tr>\n",
       "      <th>14</th>\n",
       "      <td>6.0</td>\n",
       "      <td>7.0</td>\n",
       "      <td>5.0</td>\n",
       "      <td>0</td>\n",
       "    </tr>\n",
       "    <tr>\n",
       "      <th>15</th>\n",
       "      <td>6.0</td>\n",
       "      <td>6.0</td>\n",
       "      <td>6.0</td>\n",
       "      <td>0</td>\n",
       "    </tr>\n",
       "    <tr>\n",
       "      <th>16</th>\n",
       "      <td>7.0</td>\n",
       "      <td>6.0</td>\n",
       "      <td>5.0</td>\n",
       "      <td>1</td>\n",
       "    </tr>\n",
       "    <tr>\n",
       "      <th>17</th>\n",
       "      <td>8.0</td>\n",
       "      <td>7.0</td>\n",
       "      <td>5.0</td>\n",
       "      <td>1</td>\n",
       "    </tr>\n",
       "    <tr>\n",
       "      <th>18</th>\n",
       "      <td>8.0</td>\n",
       "      <td>7.0</td>\n",
       "      <td>5.0</td>\n",
       "      <td>1</td>\n",
       "    </tr>\n",
       "    <tr>\n",
       "      <th>19</th>\n",
       "      <td>1.0</td>\n",
       "      <td>1.0</td>\n",
       "      <td>1.0</td>\n",
       "      <td>0</td>\n",
       "    </tr>\n",
       "    <tr>\n",
       "      <th>20</th>\n",
       "      <td>10.0</td>\n",
       "      <td>10.0</td>\n",
       "      <td>10.0</td>\n",
       "      <td>1</td>\n",
       "    </tr>\n",
       "    <tr>\n",
       "      <th>21</th>\n",
       "      <td>10.0</td>\n",
       "      <td>10.0</td>\n",
       "      <td>10.0</td>\n",
       "      <td>1</td>\n",
       "    </tr>\n",
       "    <tr>\n",
       "      <th>22</th>\n",
       "      <td>10.0</td>\n",
       "      <td>10.0</td>\n",
       "      <td>10.0</td>\n",
       "      <td>1</td>\n",
       "    </tr>\n",
       "    <tr>\n",
       "      <th>23</th>\n",
       "      <td>10.0</td>\n",
       "      <td>10.0</td>\n",
       "      <td>10.0</td>\n",
       "      <td>1</td>\n",
       "    </tr>\n",
       "    <tr>\n",
       "      <th>24</th>\n",
       "      <td>10.0</td>\n",
       "      <td>10.0</td>\n",
       "      <td>10.0</td>\n",
       "      <td>1</td>\n",
       "    </tr>\n",
       "    <tr>\n",
       "      <th>25</th>\n",
       "      <td>10.0</td>\n",
       "      <td>10.0</td>\n",
       "      <td>10.0</td>\n",
       "      <td>1</td>\n",
       "    </tr>\n",
       "    <tr>\n",
       "      <th>26</th>\n",
       "      <td>10.0</td>\n",
       "      <td>10.0</td>\n",
       "      <td>10.0</td>\n",
       "      <td>1</td>\n",
       "    </tr>\n",
       "    <tr>\n",
       "      <th>27</th>\n",
       "      <td>10.0</td>\n",
       "      <td>10.0</td>\n",
       "      <td>10.0</td>\n",
       "      <td>1</td>\n",
       "    </tr>\n",
       "    <tr>\n",
       "      <th>28</th>\n",
       "      <td>10.0</td>\n",
       "      <td>10.0</td>\n",
       "      <td>10.0</td>\n",
       "      <td>1</td>\n",
       "    </tr>\n",
       "    <tr>\n",
       "      <th>29</th>\n",
       "      <td>10.0</td>\n",
       "      <td>10.0</td>\n",
       "      <td>10.0</td>\n",
       "      <td>1</td>\n",
       "    </tr>\n",
       "    <tr>\n",
       "      <th>...</th>\n",
       "      <td>...</td>\n",
       "      <td>...</td>\n",
       "      <td>...</td>\n",
       "      <td>...</td>\n",
       "    </tr>\n",
       "    <tr>\n",
       "      <th>4151</th>\n",
       "      <td>10.0</td>\n",
       "      <td>7.0</td>\n",
       "      <td>8.0</td>\n",
       "      <td>1</td>\n",
       "    </tr>\n",
       "    <tr>\n",
       "      <th>4152</th>\n",
       "      <td>5.0</td>\n",
       "      <td>6.0</td>\n",
       "      <td>7.0</td>\n",
       "      <td>0</td>\n",
       "    </tr>\n",
       "    <tr>\n",
       "      <th>4154</th>\n",
       "      <td>9.0</td>\n",
       "      <td>9.0</td>\n",
       "      <td>5.0</td>\n",
       "      <td>1</td>\n",
       "    </tr>\n",
       "    <tr>\n",
       "      <th>4155</th>\n",
       "      <td>6.0</td>\n",
       "      <td>8.0</td>\n",
       "      <td>5.0</td>\n",
       "      <td>0</td>\n",
       "    </tr>\n",
       "    <tr>\n",
       "      <th>4156</th>\n",
       "      <td>9.0</td>\n",
       "      <td>7.0</td>\n",
       "      <td>5.0</td>\n",
       "      <td>1</td>\n",
       "    </tr>\n",
       "    <tr>\n",
       "      <th>4157</th>\n",
       "      <td>5.0</td>\n",
       "      <td>7.0</td>\n",
       "      <td>5.0</td>\n",
       "      <td>1</td>\n",
       "    </tr>\n",
       "    <tr>\n",
       "      <th>4158</th>\n",
       "      <td>6.0</td>\n",
       "      <td>6.0</td>\n",
       "      <td>5.0</td>\n",
       "      <td>0</td>\n",
       "    </tr>\n",
       "    <tr>\n",
       "      <th>4159</th>\n",
       "      <td>8.0</td>\n",
       "      <td>7.0</td>\n",
       "      <td>5.0</td>\n",
       "      <td>1</td>\n",
       "    </tr>\n",
       "    <tr>\n",
       "      <th>4161</th>\n",
       "      <td>5.0</td>\n",
       "      <td>7.0</td>\n",
       "      <td>5.0</td>\n",
       "      <td>0</td>\n",
       "    </tr>\n",
       "    <tr>\n",
       "      <th>4162</th>\n",
       "      <td>8.0</td>\n",
       "      <td>6.0</td>\n",
       "      <td>5.0</td>\n",
       "      <td>1</td>\n",
       "    </tr>\n",
       "    <tr>\n",
       "      <th>4163</th>\n",
       "      <td>7.0</td>\n",
       "      <td>4.0</td>\n",
       "      <td>5.0</td>\n",
       "      <td>1</td>\n",
       "    </tr>\n",
       "    <tr>\n",
       "      <th>4164</th>\n",
       "      <td>4.0</td>\n",
       "      <td>7.0</td>\n",
       "      <td>5.0</td>\n",
       "      <td>0</td>\n",
       "    </tr>\n",
       "    <tr>\n",
       "      <th>4165</th>\n",
       "      <td>6.0</td>\n",
       "      <td>6.0</td>\n",
       "      <td>5.0</td>\n",
       "      <td>0</td>\n",
       "    </tr>\n",
       "    <tr>\n",
       "      <th>4166</th>\n",
       "      <td>5.0</td>\n",
       "      <td>5.0</td>\n",
       "      <td>5.0</td>\n",
       "      <td>0</td>\n",
       "    </tr>\n",
       "    <tr>\n",
       "      <th>4167</th>\n",
       "      <td>7.0</td>\n",
       "      <td>7.0</td>\n",
       "      <td>7.0</td>\n",
       "      <td>0</td>\n",
       "    </tr>\n",
       "    <tr>\n",
       "      <th>4168</th>\n",
       "      <td>6.0</td>\n",
       "      <td>6.0</td>\n",
       "      <td>6.0</td>\n",
       "      <td>0</td>\n",
       "    </tr>\n",
       "    <tr>\n",
       "      <th>4169</th>\n",
       "      <td>7.0</td>\n",
       "      <td>7.0</td>\n",
       "      <td>7.0</td>\n",
       "      <td>0</td>\n",
       "    </tr>\n",
       "    <tr>\n",
       "      <th>4170</th>\n",
       "      <td>5.0</td>\n",
       "      <td>8.0</td>\n",
       "      <td>5.0</td>\n",
       "      <td>0</td>\n",
       "    </tr>\n",
       "    <tr>\n",
       "      <th>4171</th>\n",
       "      <td>4.0</td>\n",
       "      <td>7.0</td>\n",
       "      <td>6.0</td>\n",
       "      <td>0</td>\n",
       "    </tr>\n",
       "    <tr>\n",
       "      <th>4172</th>\n",
       "      <td>7.0</td>\n",
       "      <td>8.0</td>\n",
       "      <td>7.0</td>\n",
       "      <td>1</td>\n",
       "    </tr>\n",
       "    <tr>\n",
       "      <th>4174</th>\n",
       "      <td>7.0</td>\n",
       "      <td>4.0</td>\n",
       "      <td>1.0</td>\n",
       "      <td>0</td>\n",
       "    </tr>\n",
       "    <tr>\n",
       "      <th>4176</th>\n",
       "      <td>8.0</td>\n",
       "      <td>9.0</td>\n",
       "      <td>8.0</td>\n",
       "      <td>1</td>\n",
       "    </tr>\n",
       "    <tr>\n",
       "      <th>4177</th>\n",
       "      <td>4.0</td>\n",
       "      <td>7.0</td>\n",
       "      <td>8.0</td>\n",
       "      <td>0</td>\n",
       "    </tr>\n",
       "    <tr>\n",
       "      <th>4179</th>\n",
       "      <td>8.0</td>\n",
       "      <td>9.0</td>\n",
       "      <td>8.0</td>\n",
       "      <td>1</td>\n",
       "    </tr>\n",
       "    <tr>\n",
       "      <th>4180</th>\n",
       "      <td>6.0</td>\n",
       "      <td>9.0</td>\n",
       "      <td>8.0</td>\n",
       "      <td>1</td>\n",
       "    </tr>\n",
       "    <tr>\n",
       "      <th>4181</th>\n",
       "      <td>5.0</td>\n",
       "      <td>7.0</td>\n",
       "      <td>8.0</td>\n",
       "      <td>0</td>\n",
       "    </tr>\n",
       "    <tr>\n",
       "      <th>4183</th>\n",
       "      <td>2.0</td>\n",
       "      <td>6.0</td>\n",
       "      <td>7.0</td>\n",
       "      <td>0</td>\n",
       "    </tr>\n",
       "    <tr>\n",
       "      <th>4184</th>\n",
       "      <td>3.0</td>\n",
       "      <td>4.0</td>\n",
       "      <td>4.0</td>\n",
       "      <td>0</td>\n",
       "    </tr>\n",
       "    <tr>\n",
       "      <th>4185</th>\n",
       "      <td>3.0</td>\n",
       "      <td>6.0</td>\n",
       "      <td>6.0</td>\n",
       "      <td>0</td>\n",
       "    </tr>\n",
       "    <tr>\n",
       "      <th>4186</th>\n",
       "      <td>2.0</td>\n",
       "      <td>8.0</td>\n",
       "      <td>8.0</td>\n",
       "      <td>0</td>\n",
       "    </tr>\n",
       "  </tbody>\n",
       "</table>\n",
       "<p>3546 rows × 4 columns</p>\n",
       "</div>"
      ],
      "text/plain": [
       "      eval-phys-attr  eval-fun  eval-shar  decision\n",
       "0                6.0       8.0        6.0         0\n",
       "1                8.0       9.0        4.0         0\n",
       "2                7.0       5.0        4.0         0\n",
       "3                6.0       7.0        5.0         0\n",
       "4                6.0       8.0        6.0         0\n",
       "5                7.0       9.0        4.0         0\n",
       "6                7.0       8.0        7.0         0\n",
       "7                8.0       6.0        5.0         0\n",
       "8                6.0       8.0        5.0         0\n",
       "9                7.0       8.0        5.0         0\n",
       "10               7.0       7.0        5.0         0\n",
       "11               7.0       6.0        5.0         0\n",
       "12               6.0       6.0        5.0         0\n",
       "13               6.0       6.0        5.0         0\n",
       "14               6.0       7.0        5.0         0\n",
       "15               6.0       6.0        6.0         0\n",
       "16               7.0       6.0        5.0         1\n",
       "17               8.0       7.0        5.0         1\n",
       "18               8.0       7.0        5.0         1\n",
       "19               1.0       1.0        1.0         0\n",
       "20              10.0      10.0       10.0         1\n",
       "21              10.0      10.0       10.0         1\n",
       "22              10.0      10.0       10.0         1\n",
       "23              10.0      10.0       10.0         1\n",
       "24              10.0      10.0       10.0         1\n",
       "25              10.0      10.0       10.0         1\n",
       "26              10.0      10.0       10.0         1\n",
       "27              10.0      10.0       10.0         1\n",
       "28              10.0      10.0       10.0         1\n",
       "29              10.0      10.0       10.0         1\n",
       "...              ...       ...        ...       ...\n",
       "4151            10.0       7.0        8.0         1\n",
       "4152             5.0       6.0        7.0         0\n",
       "4154             9.0       9.0        5.0         1\n",
       "4155             6.0       8.0        5.0         0\n",
       "4156             9.0       7.0        5.0         1\n",
       "4157             5.0       7.0        5.0         1\n",
       "4158             6.0       6.0        5.0         0\n",
       "4159             8.0       7.0        5.0         1\n",
       "4161             5.0       7.0        5.0         0\n",
       "4162             8.0       6.0        5.0         1\n",
       "4163             7.0       4.0        5.0         1\n",
       "4164             4.0       7.0        5.0         0\n",
       "4165             6.0       6.0        5.0         0\n",
       "4166             5.0       5.0        5.0         0\n",
       "4167             7.0       7.0        7.0         0\n",
       "4168             6.0       6.0        6.0         0\n",
       "4169             7.0       7.0        7.0         0\n",
       "4170             5.0       8.0        5.0         0\n",
       "4171             4.0       7.0        6.0         0\n",
       "4172             7.0       8.0        7.0         1\n",
       "4174             7.0       4.0        1.0         0\n",
       "4176             8.0       9.0        8.0         1\n",
       "4177             4.0       7.0        8.0         0\n",
       "4179             8.0       9.0        8.0         1\n",
       "4180             6.0       9.0        8.0         1\n",
       "4181             5.0       7.0        8.0         0\n",
       "4183             2.0       6.0        7.0         0\n",
       "4184             3.0       4.0        4.0         0\n",
       "4185             3.0       6.0        6.0         0\n",
       "4186             2.0       8.0        8.0         0\n",
       "\n",
       "[3546 rows x 4 columns]"
      ]
     },
     "execution_count": 204,
     "metadata": {},
     "output_type": "execute_result"
    }
   ],
   "source": [
    "# Use only 3 most important attributes to train model\n",
    "\n",
    "df_imp_features = df_eval.drop(\"eval-sinc\", axis = 1).drop(\"eval-intel\", axis = 1).drop(\"eval-amb\", axis = 1)"
   ]
  },
  {
   "cell_type": "code",
   "execution_count": 205,
   "metadata": {},
   "outputs": [
    {
     "name": "stdout",
     "output_type": "stream",
     "text": [
      "train x dimensions: (2836, 3)\n",
      "train y dimensions: (2836,)\n",
      "test x dimensions: (710, 3)\n",
      "test y dimensions: (710,)\n"
     ]
    }
   ],
   "source": [
    "from sklearn.model_selection import train_test_split\n",
    "target = df_imp_features['decision']\n",
    "feat = df_imp_features.drop('decision', axis = 1)\n",
    "train_if_x, test_if_x, train_if_y, test_if_y = train_test_split(feat, target, train_size = .8)\n",
    "print(\"train x dimensions:\", train_if_x.shape)\n",
    "print(\"train y dimensions:\", train_if_y.shape)\n",
    "print(\"test x dimensions:\", test_if_x.shape)\n",
    "print(\"test y dimensions:\", test_if_y.shape)"
   ]
  },
  {
   "cell_type": "code",
   "execution_count": 206,
   "metadata": {},
   "outputs": [
    {
     "name": "stdout",
     "output_type": "stream",
     "text": [
      "train accuracy:  0.78\n",
      "test accuracy:  0.74\n"
     ]
    },
    {
     "data": {
      "image/png": "[encoded data removed]",
      "text/plain": [
       "<matplotlib.figure.Figure at 0x111f4a240>"
      ]
     },
     "metadata": {},
     "output_type": "display_data"
    }
   ],
   "source": [
    "rf_imp_features = RandomForestClassifier()\n",
    "rf_imp_features.fit(train_if_x, train_if_y)\n",
    "pred = rf_imp_features.predict(test_if_x)\n",
    "\n",
    "train_if_rf = format(accuracy_score(train_if_y, rf_imp_features.predict(train_if_x)), '.2f')\n",
    "test_if_rf = format(accuracy_score(test_if_y, pred), '.2f')\n",
    "print(\"train accuracy: \", train_if_rf)\n",
    "print(\"test accuracy: \", test_if_rf)\n",
    "\n",
    "cnf_matrix = confusion_matrix(test_if_y, pred)\n",
    "np.set_printoptions(precision=2)\n",
    "\n",
    "class_names = ['Yes','No']\n",
    "\n",
    "# Plot normalized confusion matrix\n",
    "plt.figure()\n",
    "plot_confusion_matrix(cnf_matrix, classes=class_names, normalize=True,\n",
    "                      title='Normalized confusion matrix')\n",
    "\n",
    "plt.show()"
   ]
  }
 ],
 "metadata": {
  "kernelspec": {
   "display_name": "Python 3",
   "language": "python",
   "name": "python3"
  },
  "language_info": {
   "codemirror_mode": {
    "name": "ipython",
    "version": 3
   },
   "file_extension": ".py",
   "mimetype": "text/x-python",
   "name": "python",
   "nbconvert_exporter": "python",
   "pygments_lexer": "ipython3",
   "version": "3.6.2"
  }
 },
 "nbformat": 4,
 "nbformat_minor": 2
}
