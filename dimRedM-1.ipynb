{
 "cells": [
  {
   "cell_type": "code",
   "execution_count": null,
   "metadata": {},
   "outputs": [],
   "source": [
    "from pandas import read_csv\n",
    "from sklearn.ensemble import RandomForestClassifier\n",
    "import numpy as np\n",
    "\n",
    "import warnings\n",
    "warnings.filterwarnings('ignore')\n",
    "\n",
    "# load data\n",
    "df = read_csv(\"speedDateM-dimred.csv\")\n",
    "df.shape\n"
   ]
  },
  {
   "cell_type": "code",
   "execution_count": null,
   "metadata": {},
   "outputs": [],
   "source": [
    "df = df.drop(\"iid\", axis = 1).drop(\"id\", axis = 1).drop(\"idg\", axis = 1).drop(\"gender\", axis = 1).drop(\"wave\", axis = 1)\n",
    "df = df.dropna(how='any')    #to drop if any value in the row has a nan\n",
    "df.columns = ['imp-phys-attr', 'imp-sinc', 'imp-intel', 'imp-fun', 'imp-amb', 'imp-shar',\\\n",
    "              'eval-phys-attr', 'eval-sinc', 'eval-intel','eval-fun','eval-amb',\\\n",
    "              'eval-shar', 'decision' ]\n",
    "df"
   ]
  },
  {
   "cell_type": "code",
   "execution_count": null,
   "metadata": {},
   "outputs": [],
   "source": [
    "# rename data attribute\n",
    "df.columns = ['imp-phys-attr', 'imp-sinc', 'imp-intel', 'imp-fun', 'imp-amb', 'imp-shar',\\\n",
    "              'eval-phys-attr', 'eval-sinc', 'eval-intel','eval-fun','eval-amb',\\\n",
    "              'eval-shar', 'decision' ]"
   ]
  },
  {
   "cell_type": "code",
   "execution_count": null,
   "metadata": {
    "collapsed": true
   },
   "outputs": [],
   "source": [
    "from sklearn.model_selection import train_test_split\n",
    "target = df['decision']\n",
    "feat = df.drop('decision', axis = 1)\n",
    "\n",
    "train_x, test_x, train_y, test_y = train_test_split(feat, target, train_size = .8)"
   ]
  },
  {
   "cell_type": "code",
   "execution_count": null,
   "metadata": {},
   "outputs": [],
   "source": [
    "print(\"train x dimensions:\", train_x.shape)\n",
    "print(\"train y dimensions:\", train_y.shape)\n",
    "print(\"test x dimensions:\", test_x.shape)\n",
    "print(\"test y dimensions:\", test_y.shape)"
   ]
  },
  {
   "cell_type": "code",
   "execution_count": null,
   "metadata": {},
   "outputs": [],
   "source": [
    "rf = RandomForestClassifier()\n",
    "rf.fit(train_x, train_y)\n",
    "pred = rf.predict(test_x)"
   ]
  },
  {
   "cell_type": "code",
   "execution_count": null,
   "metadata": {},
   "outputs": [],
   "source": [
    "from sklearn.metrics import accuracy_score\n",
    "from sklearn.metrics import confusion_matrix\n",
    "print(\"train accuracy: \", accuracy_score(train_y, rf.predict(train_x)))\n",
    "print(\"test accuracy: \", accuracy_score(test_y,pred))\n",
    "print(\"confusion matrix: \\n\", confusion_matrix(test_y, pred))"
   ]
  },
  {
   "cell_type": "code",
   "execution_count": null,
   "metadata": {
    "collapsed": true
   },
   "outputs": [],
   "source": []
  },
  {
   "cell_type": "code",
   "execution_count": null,
   "metadata": {
    "collapsed": true
   },
   "outputs": [],
   "source": []
  }
 ],
 "metadata": {
  "kernelspec": {
   "display_name": "Python 3",
   "language": "python",
   "name": "python3"
  },
  "language_info": {
   "codemirror_mode": {
    "name": "ipython",
    "version": 3
   },
   "file_extension": ".py",
   "mimetype": "text/x-python",
   "name": "python",
   "nbconvert_exporter": "python",
   "pygments_lexer": "ipython3",
   "version": "3.6.2"
  }
 },
 "nbformat": 4,
 "nbformat_minor": 2
}
